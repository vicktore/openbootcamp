{
 "cells": [
  {
   "cell_type": "code",
   "execution_count": 5,
   "metadata": {},
   "outputs": [
    {
     "name": "stdout",
     "output_type": "stream",
     "text": [
      "[2, 4, 6, 8, 10]\n"
     ]
    }
   ],
   "source": [
    "numeros=[1,2,3,4,5,6,7,8,9,10]\n",
    "\n",
    "def mifuncion(x):\n",
    "    if x%2==0:  # numeros pares        return True\n",
    "    return False\n",
    "resultado = filter(mifuncion, numeros)\n",
    "print(list(resultado))"
   ]
  },
  {
   "cell_type": "code",
   "execution_count": 6,
   "metadata": {},
   "outputs": [
    {
     "name": "stdout",
     "output_type": "stream",
     "text": [
      "[1, 3, 5, 7, 9]\n"
     ]
    }
   ],
   "source": [
    "def mifuncion(x):\n",
    "    if x%2==0:  #\n",
    "        return True\n",
    "    return False\n",
    "resultado = filter(lambda x: x%2, numeros) # numeros impares\n",
    "print(list(resultado))"
   ]
  },
  {
   "cell_type": "code",
   "execution_count": null,
   "metadata": {},
   "outputs": [],
   "source": []
  },
  {
   "cell_type": "code",
   "execution_count": 3,
   "metadata": {},
   "outputs": [
    {
     "name": "stdout",
     "output_type": "stream",
     "text": [
      "[1, 4, 9, 16, 25, 36, 49, 64, 81, 100]\n",
      "[1, 4, 9, 16, 25, 36, 49, 64, 81, 100]\n"
     ]
    }
   ],
   "source": [
    "#resultado= map(function,lista)\n",
    "numeros=[1,2,3,4,5,6,7,8,9,10]\n",
    "\n",
    "def cuadrado(x):\n",
    "    return x*x\n",
    "\n",
    "resultado=map(cuadrado,numeros) #potencia 2\n",
    "print(list(resultado))\n",
    "\n",
    "resultado2=map(lambda x: cuadrado(x),numeros)\n",
    "print(list(resultado2))"
   ]
  },
  {
   "cell_type": "code",
   "execution_count": 7,
   "metadata": {},
   "outputs": [
    {
     "name": "stdout",
     "output_type": "stream",
     "text": [
      "15\n"
     ]
    }
   ],
   "source": [
    "numeros=[1,2,3,4,5,6,7,8,9,10]\n",
    "from functools import reduce\n",
    "def suma(a,b):\n",
    "    return a+b\n",
    "res=reduce(suma,[1,2,3,4,5])\n",
    "\n",
    "print(res)\n"
   ]
  },
  {
   "cell_type": "code",
   "execution_count": 10,
   "metadata": {},
   "outputs": [
    {
     "name": "stdout",
     "output_type": "stream",
     "text": [
      "15\n"
     ]
    }
   ],
   "source": [
    "res=reduce((lambda a,b:a+b),[1,2,3,4,5])  #total sum\n",
    "\n",
    "print(res)"
   ]
  },
  {
   "cell_type": "code",
   "execution_count": 14,
   "metadata": {},
   "outputs": [
    {
     "name": "stdout",
     "output_type": "stream",
     "text": [
      "[(5, 'javascript'), (6, 'php'), (8, 'python')]\n"
     ]
    }
   ],
   "source": [
    "cursos=['javascript','php','python']\n",
    "asistencia=[5,6,8]\n",
    "\n",
    "asistencia_curso=zip(asistencia,cursos)  #combinar en una lista\n",
    "print(list(asistencia_curso))"
   ]
  },
  {
   "cell_type": "code",
   "execution_count": 15,
   "metadata": {},
   "outputs": [
    {
     "name": "stdout",
     "output_type": "stream",
     "text": [
      "True\n"
     ]
    }
   ],
   "source": [
    "lista=[1==1,2==2,3==3]  \n",
    "res=all(lista)  #se cumplen todas las condiciones y da un boleano  and\n",
    "print(res)\n"
   ]
  },
  {
   "cell_type": "code",
   "execution_count": 18,
   "metadata": {},
   "outputs": [
    {
     "name": "stdout",
     "output_type": "stream",
     "text": [
      "False\n"
     ]
    }
   ],
   "source": [
    "lista=[1==0,2==0,3==0]  \n",
    "res=any(lista)  #se cumplen todas las condiciones y da un boleano Or\n",
    "print(res)\n"
   ]
  },
  {
   "cell_type": "code",
   "execution_count": 20,
   "metadata": {},
   "outputs": [
    {
     "name": "stdout",
     "output_type": "stream",
     "text": [
      "16\n"
     ]
    }
   ],
   "source": [
    "pow(2,4)  #es elevado\n",
    "\n",
    "print(2**4)"
   ]
  },
  {
   "cell_type": "code",
   "execution_count": 28,
   "metadata": {},
   "outputs": [
    {
     "name": "stdout",
     "output_type": "stream",
     "text": [
      "hola {'victor'}\n"
     ]
    }
   ],
   "source": [
    "a=input(\"como te llamas?\")\n",
    "print('hola',{a})"
   ]
  },
  {
   "cell_type": "code",
   "execution_count": 30,
   "metadata": {},
   "outputs": [
    {
     "name": "stdout",
     "output_type": "stream",
     "text": [
      "vicvtor 1235\n"
     ]
    }
   ],
   "source": [
    "from getpass import getpass\n",
    "\n",
    "user=input(\"usuario:\")\n",
    "password=getpass(\"password:\")\n",
    "\n",
    "print(user,password)"
   ]
  },
  {
   "cell_type": "code",
   "execution_count": null,
   "metadata": {},
   "outputs": [],
   "source": [
    "#digitos a string\n",
    "\n",
    "secreto=50\n",
    "\n",
    "valor= input(\" introduice un numero:    \")  \n",
    "valor = int(valor)"
   ]
  }
 ],
 "metadata": {
  "kernelspec": {
   "display_name": "Python 3.10.5 64-bit",
   "language": "python",
   "name": "python3"
  },
  "language_info": {
   "codemirror_mode": {
    "name": "ipython",
    "version": 3
   },
   "file_extension": ".py",
   "mimetype": "text/x-python",
   "name": "python",
   "nbconvert_exporter": "python",
   "pygments_lexer": "ipython3",
   "version": "3.10.5"
  },
  "orig_nbformat": 4,
  "vscode": {
   "interpreter": {
    "hash": "41be7f9811840f4f90a938a67c905cecfdb5b58b08c1c2e0f300ad6d3d8d5070"
   }
  }
 },
 "nbformat": 4,
 "nbformat_minor": 2
}
