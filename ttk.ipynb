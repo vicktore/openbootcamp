{
 "cells": [
  {
   "cell_type": "code",
   "execution_count": 2,
   "metadata": {},
   "outputs": [],
   "source": [
    "import tkinter\n",
    "\n",
    "tkinter.Tcl().eval('info patchlevel')\n",
    "window = tkinter.Tk()\n",
    "label_saludo=tkinter.Label(window, text='Hola', bg='black',fg='white')\n",
    "label_saludo.pack(ipadx=10,ipady=10, fill='both')\n",
    "\n",
    "label_adios=tkinter.Label(window, text='Adios', bg='yellow',fg='black')\n",
    "label_adios.pack(ipadx=10,ipady=10, expand=True)\n",
    "\n",
    "window.mainloop()\n",
    "\n",
    "\n",
    "\n"
   ]
  },
  {
   "cell_type": "code",
   "execution_count": 4,
   "metadata": {},
   "outputs": [],
   "source": [
    "import tkinter\n",
    "from tkinter import ttk\n",
    "\n",
    "window=tkinter.Tk()\n",
    "\n",
    "window.columnconfigure(0,weight=1)\n",
    "window.columnconfigure(1,weight=3)\n",
    "\n",
    "username_label=ttk.Label(window, text=\"Username:\")\n",
    "username_label.grid(column=0,row=0, sticky=tkinter.W, padx=5, pady=5)\n",
    "\n",
    "username_entry=ttk.Entry(window)\n",
    "username_entry.grid(column=1,row=0, sticky=tkinter.E, padx=5, pady=5)\n",
    "#password\n",
    "\n",
    "password_label=ttk.Label(window, text=\"password:\")\n",
    "password_label.grid(column=0,row=1, sticky=tkinter.W, padx=5, pady=5)\n",
    "\n",
    "password_entry=ttk.Entry(window, show='*')\n",
    "password_entry.grid(column=1,row=1, sticky=tkinter.E, padx=5, pady=5)\n",
    "#boton\n",
    "login_button=ttk.Button(window, text=\"Login\")\n",
    "login_button.grid(column=1,row=3,sticky=tkinter.W, padx=5, pady=5 )\n",
    "\n",
    "\n",
    "window.mainloop()\n",
    "\n",
    "sys.exit(0)\n"
   ]
  },
  {
   "cell_type": "code",
   "execution_count": 5,
   "metadata": {},
   "outputs": [],
   "source": [
    "import tkinter\n",
    "from tkinter import ttk\n",
    "\n",
    "window=tkinter.Tk()\n",
    "\n",
    "\n",
    "label1=ttk.Label(window, text=\"Username:\")\n",
    "label1.place(x=10,y=50)"
   ]
  }
 ],
 "metadata": {
  "kernelspec": {
   "display_name": "Python 3.10.5 64-bit",
   "language": "python",
   "name": "python3"
  },
  "language_info": {
   "codemirror_mode": {
    "name": "ipython",
    "version": 3
   },
   "file_extension": ".py",
   "mimetype": "text/x-python",
   "name": "python",
   "nbconvert_exporter": "python",
   "pygments_lexer": "ipython3",
   "version": "3.10.5"
  },
  "orig_nbformat": 4,
  "vscode": {
   "interpreter": {
    "hash": "41be7f9811840f4f90a938a67c905cecfdb5b58b08c1c2e0f300ad6d3d8d5070"
   }
  }
 },
 "nbformat": 4,
 "nbformat_minor": 2
}
