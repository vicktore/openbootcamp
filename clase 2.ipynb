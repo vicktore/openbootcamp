{
 "cells": [
  {
   "cell_type": "code",
   "execution_count": null,
   "metadata": {},
   "outputs": [],
   "source": [
    "pip --version"
   ]
  },
  {
   "cell_type": "code",
   "execution_count": 12,
   "metadata": {},
   "outputs": [
    {
     "name": "stdout",
     "output_type": "stream",
     "text": [
      "Requirement already satisfied: pipenv in c:\\users\\picto\\appdata\\local\\programs\\python\\python310\\lib\\site-packages (2022.8.14)\n",
      "Requirement already satisfied: setuptools>=36.2.1 in c:\\users\\picto\\appdata\\local\\programs\\python\\python310\\lib\\site-packages (from pipenv) (58.1.0)\n",
      "Requirement already satisfied: virtualenv in c:\\users\\picto\\appdata\\local\\programs\\python\\python310\\lib\\site-packages (from pipenv) (20.15.1)\n",
      "Requirement already satisfied: certifi in c:\\users\\picto\\appdata\\local\\programs\\python\\python310\\lib\\site-packages (from pipenv) (2022.6.15)\n",
      "Requirement already satisfied: virtualenv-clone>=0.2.5 in c:\\users\\picto\\appdata\\local\\programs\\python\\python310\\lib\\site-packages (from pipenv) (0.5.7)\n",
      "Requirement already satisfied: six<2,>=1.9.0 in c:\\users\\picto\\appdata\\local\\programs\\python\\python310\\lib\\site-packages (from virtualenv->pipenv) (1.16.0)\n",
      "Requirement already satisfied: platformdirs<3,>=2 in c:\\users\\picto\\appdata\\local\\programs\\python\\python310\\lib\\site-packages (from virtualenv->pipenv) (2.5.2)\n",
      "Requirement already satisfied: filelock<4,>=3.2 in c:\\users\\picto\\appdata\\local\\programs\\python\\python310\\lib\\site-packages (from virtualenv->pipenv) (3.7.1)\n",
      "Requirement already satisfied: distlib<1,>=0.3.1 in c:\\users\\picto\\appdata\\local\\programs\\python\\python310\\lib\\site-packages (from virtualenv->pipenv) (0.3.4)\n",
      "Note: you may need to restart the kernel to use updated packages.\n"
     ]
    }
   ],
   "source": [
    "pip install pipenv\n"
   ]
  },
  {
   "cell_type": "code",
   "execution_count": null,
   "metadata": {},
   "outputs": [],
   "source": [
    "pip install scipy"
   ]
  },
  {
   "cell_type": "code",
   "execution_count": 1,
   "metadata": {},
   "outputs": [
    {
     "ename": "SyntaxError",
     "evalue": "invalid syntax (1800989485.py, line 1)",
     "output_type": "error",
     "traceback": [
      "\u001b[1;36m  Input \u001b[1;32mIn [1]\u001b[1;36m\u001b[0m\n\u001b[1;33m    demo3 pipenv shell\u001b[0m\n\u001b[1;37m          ^\u001b[0m\n\u001b[1;31mSyntaxError\u001b[0m\u001b[1;31m:\u001b[0m invalid syntax\n"
     ]
    }
   ],
   "source": [
    "demo3 pipenv shell"
   ]
  },
  {
   "cell_type": "code",
   "execution_count": null,
   "metadata": {},
   "outputs": [],
   "source": [
    "pip install numpy"
   ]
  },
  {
   "cell_type": "code",
   "execution_count": null,
   "metadata": {},
   "outputs": [],
   "source": [
    "pip list"
   ]
  }
 ],
 "metadata": {
  "kernelspec": {
   "display_name": "Python 3.10.5 64-bit",
   "language": "python",
   "name": "python3"
  },
  "language_info": {
   "codemirror_mode": {
    "name": "ipython",
    "version": 3
   },
   "file_extension": ".py",
   "mimetype": "text/x-python",
   "name": "python",
   "nbconvert_exporter": "python",
   "pygments_lexer": "ipython3",
   "version": "3.10.5"
  },
  "orig_nbformat": 4,
  "vscode": {
   "interpreter": {
    "hash": "41be7f9811840f4f90a938a67c905cecfdb5b58b08c1c2e0f300ad6d3d8d5070"
   }
  }
 },
 "nbformat": 4,
 "nbformat_minor": 2
}
