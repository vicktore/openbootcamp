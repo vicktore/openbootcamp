{
 "cells": [
  {
   "cell_type": "code",
   "execution_count": null,
   "metadata": {},
   "outputs": [],
   "source": [
    "\n",
    "import  sqlite3\n",
    "\n",
    "db_connection = sqlite3.connect(\"my-app.sqlite\")\n",
    "db_cursor = db_connection.cursor()\n",
    "\n",
    "db_cursor.execute(\"create table students(id,\"name\",\"lastname\")\")\n",
    "\n",
    "db_cursor.execute(\"indice (id)\")\n",
    "\n",
    "db_cursor.execute(\"insert into students values (1, 'estudiante1', 'clave1')\")\n",
    "db_cursor.execute(\"insert into students values (2, 'estudiante2', 'clave2')\")\n",
    "db_cursor.execute(\"insert into students values (3, 'estudiante3', 'clave3')\")\n",
    "db_cursor.execute(\"insert into students values (4, 'estudiante4', 'clave4')\")\n",
    "db_cursor.execute(\"insert into students values (5, 'estudiante5', 'clave5')\")\n",
    "\n",
    "\n",
    "\n",
    "\n",
    "db_connection.commit()\n",
    "\n",
    "db_cursor.execute(\"select * from students where name = 'estudiante1'\")\n",
    "\n",
    "row = db_cursor.fetchall()\n",
    "print(row)\n",
    "\n",
    "db_connection.close()"
   ]
  }
 ],
 "metadata": {
  "language_info": {
   "name": "python"
  },
  "orig_nbformat": 4
 },
 "nbformat": 4,
 "nbformat_minor": 2
}
